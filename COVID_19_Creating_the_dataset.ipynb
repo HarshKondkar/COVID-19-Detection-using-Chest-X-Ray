{
  "nbformat": 4,
  "nbformat_minor": 0,
  "metadata": {
    "colab": {
      "name": "COVID-19 -- Creating the dataset.ipynb",
      "provenance": [],
      "collapsed_sections": [
        "sMQPORQRKhJF",
        "N6iZWSvQL6LI",
        "lm6SbQ7KM7tW",
        "wX8NfWl1MNL8",
        "rQ5hg9tORopu",
        "oAPp0jjQj9fe",
        "YUNY1U00qTAf"
      ]
    },
    "kernelspec": {
      "name": "python3",
      "display_name": "Python 3"
    },
    "language_info": {
      "name": "python"
    }
  },
  "cells": [
    {
      "cell_type": "markdown",
      "source": [
        "# COVID-19 X-Ray Classification --- Creating the Dataset"
      ],
      "metadata": {
        "id": "sMQPORQRKhJF"
      }
    },
    {
      "cell_type": "markdown",
      "source": [
        "### `Importing libraries & creating the dataset`"
      ],
      "metadata": {
        "id": "N6iZWSvQL6LI"
      }
    },
    {
      "cell_type": "code",
      "source": [
        "import pandas as pd\n",
        "import numpy as np\n",
        "\n",
        "import os\n",
        "import shutil\n",
        "import random\n",
        "\n",
        "pd.set_option('max.columns', None)\n",
        "import warnings\n",
        "warnings.filterwarnings('ignore')"
      ],
      "metadata": {
        "id": "9fxxBRT3MCrR"
      },
      "execution_count": null,
      "outputs": []
    },
    {
      "cell_type": "markdown",
      "source": [
        "### `Loading metadata file`"
      ],
      "metadata": {
        "id": "lm6SbQ7KM7tW"
      }
    },
    {
      "cell_type": "code",
      "source": [
        "df = pd.read_csv('/content/drive/MyDrive/COVID-19 Project/covid-chestxray-dataset/covid-chestxray-dataset-master/metadata.csv')\n",
        "df.sample(2)"
      ],
      "metadata": {
        "colab": {
          "base_uri": "https://localhost:8080/",
          "height": 297
        },
        "id": "kfHVLf6SM_pi",
        "outputId": "bbd50d3c-4c03-44dd-deec-0e110f9a4396"
      },
      "execution_count": null,
      "outputs": [
        {
          "output_type": "execute_result",
          "data": {
            "text/plain": [
              "    patientid  offset  sex  age                        finding  \\\n",
              "543       289     3.0  NaN  NaN       Pneumonia/Viral/COVID-19   \n",
              "199       105     NaN    M  NaN  Pneumonia/Fungal/Pneumocystis   \n",
              "\n",
              "    RT_PCR_positive survival intubated intubation_present went_icu in_icu  \\\n",
              "543         Unclear      NaN       NaN                NaN      NaN    NaN   \n",
              "199             NaN      NaN       NaN                NaN      NaN    NaN   \n",
              "\n",
              "    needed_supplemental_O2 extubated  temperature  pO2_saturation  \\\n",
              "543                    NaN       NaN          NaN             NaN   \n",
              "199                    NaN       NaN          NaN             NaN   \n",
              "\n",
              "     leukocyte_count  neutrophil_count  lymphocyte_count view modality  date  \\\n",
              "543              NaN               NaN               NaN   AP    X-ray   NaN   \n",
              "199              NaN               NaN               NaN   PA    X-ray  2010   \n",
              "\n",
              "    location  folder                                 filename  \\\n",
              "543      NaN  images             68_2020_1364_Fig1_HTML-b.png   \n",
              "199      NaN  images  pneumocystis-carinii-pneumonia-1-PA.jpg   \n",
              "\n",
              "                            doi  \\\n",
              "543  10.1007/s00068-020-01364-7   \n",
              "199                         NaN   \n",
              "\n",
              "                                                   url      license  \\\n",
              "543  https://link.springer.com/article/10.1007/s000...          NaN   \n",
              "199  https://radiopaedia.org/cases/pneumocystis-car...  CC BY-NC-SA   \n",
              "\n",
              "                                        clinical_notes  \\\n",
              "543  Chest X-Ray of a symptomatic patient on hospit...   \n",
              "199  There are diffuse bilaterally symmetric inters...   \n",
              "\n",
              "                                           other_notes Unnamed: 29  \n",
              "543                                                NaN         NaN  \n",
              "199  Case courtesy of Radswiki, Radiopaedia.org, rI...         NaN  "
            ],
            "text/html": [
              "\n",
              "  <div id=\"df-c6e392ac-68e5-402e-b0cd-70a3695a0bf0\">\n",
              "    <div class=\"colab-df-container\">\n",
              "      <div>\n",
              "<style scoped>\n",
              "    .dataframe tbody tr th:only-of-type {\n",
              "        vertical-align: middle;\n",
              "    }\n",
              "\n",
              "    .dataframe tbody tr th {\n",
              "        vertical-align: top;\n",
              "    }\n",
              "\n",
              "    .dataframe thead th {\n",
              "        text-align: right;\n",
              "    }\n",
              "</style>\n",
              "<table border=\"1\" class=\"dataframe\">\n",
              "  <thead>\n",
              "    <tr style=\"text-align: right;\">\n",
              "      <th></th>\n",
              "      <th>patientid</th>\n",
              "      <th>offset</th>\n",
              "      <th>sex</th>\n",
              "      <th>age</th>\n",
              "      <th>finding</th>\n",
              "      <th>RT_PCR_positive</th>\n",
              "      <th>survival</th>\n",
              "      <th>intubated</th>\n",
              "      <th>intubation_present</th>\n",
              "      <th>went_icu</th>\n",
              "      <th>in_icu</th>\n",
              "      <th>needed_supplemental_O2</th>\n",
              "      <th>extubated</th>\n",
              "      <th>temperature</th>\n",
              "      <th>pO2_saturation</th>\n",
              "      <th>leukocyte_count</th>\n",
              "      <th>neutrophil_count</th>\n",
              "      <th>lymphocyte_count</th>\n",
              "      <th>view</th>\n",
              "      <th>modality</th>\n",
              "      <th>date</th>\n",
              "      <th>location</th>\n",
              "      <th>folder</th>\n",
              "      <th>filename</th>\n",
              "      <th>doi</th>\n",
              "      <th>url</th>\n",
              "      <th>license</th>\n",
              "      <th>clinical_notes</th>\n",
              "      <th>other_notes</th>\n",
              "      <th>Unnamed: 29</th>\n",
              "    </tr>\n",
              "  </thead>\n",
              "  <tbody>\n",
              "    <tr>\n",
              "      <th>543</th>\n",
              "      <td>289</td>\n",
              "      <td>3.0</td>\n",
              "      <td>NaN</td>\n",
              "      <td>NaN</td>\n",
              "      <td>Pneumonia/Viral/COVID-19</td>\n",
              "      <td>Unclear</td>\n",
              "      <td>NaN</td>\n",
              "      <td>NaN</td>\n",
              "      <td>NaN</td>\n",
              "      <td>NaN</td>\n",
              "      <td>NaN</td>\n",
              "      <td>NaN</td>\n",
              "      <td>NaN</td>\n",
              "      <td>NaN</td>\n",
              "      <td>NaN</td>\n",
              "      <td>NaN</td>\n",
              "      <td>NaN</td>\n",
              "      <td>NaN</td>\n",
              "      <td>AP</td>\n",
              "      <td>X-ray</td>\n",
              "      <td>NaN</td>\n",
              "      <td>NaN</td>\n",
              "      <td>images</td>\n",
              "      <td>68_2020_1364_Fig1_HTML-b.png</td>\n",
              "      <td>10.1007/s00068-020-01364-7</td>\n",
              "      <td>https://link.springer.com/article/10.1007/s000...</td>\n",
              "      <td>NaN</td>\n",
              "      <td>Chest X-Ray of a symptomatic patient on hospit...</td>\n",
              "      <td>NaN</td>\n",
              "      <td>NaN</td>\n",
              "    </tr>\n",
              "    <tr>\n",
              "      <th>199</th>\n",
              "      <td>105</td>\n",
              "      <td>NaN</td>\n",
              "      <td>M</td>\n",
              "      <td>NaN</td>\n",
              "      <td>Pneumonia/Fungal/Pneumocystis</td>\n",
              "      <td>NaN</td>\n",
              "      <td>NaN</td>\n",
              "      <td>NaN</td>\n",
              "      <td>NaN</td>\n",
              "      <td>NaN</td>\n",
              "      <td>NaN</td>\n",
              "      <td>NaN</td>\n",
              "      <td>NaN</td>\n",
              "      <td>NaN</td>\n",
              "      <td>NaN</td>\n",
              "      <td>NaN</td>\n",
              "      <td>NaN</td>\n",
              "      <td>NaN</td>\n",
              "      <td>PA</td>\n",
              "      <td>X-ray</td>\n",
              "      <td>2010</td>\n",
              "      <td>NaN</td>\n",
              "      <td>images</td>\n",
              "      <td>pneumocystis-carinii-pneumonia-1-PA.jpg</td>\n",
              "      <td>NaN</td>\n",
              "      <td>https://radiopaedia.org/cases/pneumocystis-car...</td>\n",
              "      <td>CC BY-NC-SA</td>\n",
              "      <td>There are diffuse bilaterally symmetric inters...</td>\n",
              "      <td>Case courtesy of Radswiki, Radiopaedia.org, rI...</td>\n",
              "      <td>NaN</td>\n",
              "    </tr>\n",
              "  </tbody>\n",
              "</table>\n",
              "</div>\n",
              "      <button class=\"colab-df-convert\" onclick=\"convertToInteractive('df-c6e392ac-68e5-402e-b0cd-70a3695a0bf0')\"\n",
              "              title=\"Convert this dataframe to an interactive table.\"\n",
              "              style=\"display:none;\">\n",
              "        \n",
              "  <svg xmlns=\"http://www.w3.org/2000/svg\" height=\"24px\"viewBox=\"0 0 24 24\"\n",
              "       width=\"24px\">\n",
              "    <path d=\"M0 0h24v24H0V0z\" fill=\"none\"/>\n",
              "    <path d=\"M18.56 5.44l.94 2.06.94-2.06 2.06-.94-2.06-.94-.94-2.06-.94 2.06-2.06.94zm-11 1L8.5 8.5l.94-2.06 2.06-.94-2.06-.94L8.5 2.5l-.94 2.06-2.06.94zm10 10l.94 2.06.94-2.06 2.06-.94-2.06-.94-.94-2.06-.94 2.06-2.06.94z\"/><path d=\"M17.41 7.96l-1.37-1.37c-.4-.4-.92-.59-1.43-.59-.52 0-1.04.2-1.43.59L10.3 9.45l-7.72 7.72c-.78.78-.78 2.05 0 2.83L4 21.41c.39.39.9.59 1.41.59.51 0 1.02-.2 1.41-.59l7.78-7.78 2.81-2.81c.8-.78.8-2.07 0-2.86zM5.41 20L4 18.59l7.72-7.72 1.47 1.35L5.41 20z\"/>\n",
              "  </svg>\n",
              "      </button>\n",
              "      \n",
              "  <style>\n",
              "    .colab-df-container {\n",
              "      display:flex;\n",
              "      flex-wrap:wrap;\n",
              "      gap: 12px;\n",
              "    }\n",
              "\n",
              "    .colab-df-convert {\n",
              "      background-color: #E8F0FE;\n",
              "      border: none;\n",
              "      border-radius: 50%;\n",
              "      cursor: pointer;\n",
              "      display: none;\n",
              "      fill: #1967D2;\n",
              "      height: 32px;\n",
              "      padding: 0 0 0 0;\n",
              "      width: 32px;\n",
              "    }\n",
              "\n",
              "    .colab-df-convert:hover {\n",
              "      background-color: #E2EBFA;\n",
              "      box-shadow: 0px 1px 2px rgba(60, 64, 67, 0.3), 0px 1px 3px 1px rgba(60, 64, 67, 0.15);\n",
              "      fill: #174EA6;\n",
              "    }\n",
              "\n",
              "    [theme=dark] .colab-df-convert {\n",
              "      background-color: #3B4455;\n",
              "      fill: #D2E3FC;\n",
              "    }\n",
              "\n",
              "    [theme=dark] .colab-df-convert:hover {\n",
              "      background-color: #434B5C;\n",
              "      box-shadow: 0px 1px 3px 1px rgba(0, 0, 0, 0.15);\n",
              "      filter: drop-shadow(0px 1px 2px rgba(0, 0, 0, 0.3));\n",
              "      fill: #FFFFFF;\n",
              "    }\n",
              "  </style>\n",
              "\n",
              "      <script>\n",
              "        const buttonEl =\n",
              "          document.querySelector('#df-c6e392ac-68e5-402e-b0cd-70a3695a0bf0 button.colab-df-convert');\n",
              "        buttonEl.style.display =\n",
              "          google.colab.kernel.accessAllowed ? 'block' : 'none';\n",
              "\n",
              "        async function convertToInteractive(key) {\n",
              "          const element = document.querySelector('#df-c6e392ac-68e5-402e-b0cd-70a3695a0bf0');\n",
              "          const dataTable =\n",
              "            await google.colab.kernel.invokeFunction('convertToInteractive',\n",
              "                                                     [key], {});\n",
              "          if (!dataTable) return;\n",
              "\n",
              "          const docLinkHtml = 'Like what you see? Visit the ' +\n",
              "            '<a target=\"_blank\" href=https://colab.research.google.com/notebooks/data_table.ipynb>data table notebook</a>'\n",
              "            + ' to learn more about interactive tables.';\n",
              "          element.innerHTML = '';\n",
              "          dataTable['output_type'] = 'display_data';\n",
              "          await google.colab.output.renderOutput(dataTable, element);\n",
              "          const docLink = document.createElement('div');\n",
              "          docLink.innerHTML = docLinkHtml;\n",
              "          element.appendChild(docLink);\n",
              "        }\n",
              "      </script>\n",
              "    </div>\n",
              "  </div>\n",
              "  "
            ]
          },
          "metadata": {},
          "execution_count": 5
        }
      ]
    },
    {
      "cell_type": "code",
      "source": [
        "len(df[(df['finding'].str.contains('COVID-19')) & (df['view'] == 'PA')]) ## 584 COVID positive files with posterioranterior view of the chest"
      ],
      "metadata": {
        "colab": {
          "base_uri": "https://localhost:8080/"
        },
        "id": "lcIFyToaNfPm",
        "outputId": "4bfc1345-133e-45bc-888e-4cd37e25259d"
      },
      "execution_count": null,
      "outputs": [
        {
          "output_type": "execute_result",
          "data": {
            "text/plain": [
              "196"
            ]
          },
          "metadata": {},
          "execution_count": 44
        }
      ]
    },
    {
      "cell_type": "code",
      "source": [
        "df = df[(df['finding'].str.contains('COVID-19')) & (df['view'] == 'PA')]"
      ],
      "metadata": {
        "id": "8sBAiCN5OXG1"
      },
      "execution_count": null,
      "outputs": []
    },
    {
      "cell_type": "markdown",
      "source": [
        "### `COVID-19 X-ray Images`"
      ],
      "metadata": {
        "id": "wX8NfWl1MNL8"
      }
    },
    {
      "cell_type": "code",
      "source": [
        "covid_images_path = '/content/drive/MyDrive/COVID-19 Project/covid-chestxray-dataset/covid-chestxray-dataset-master/images'\n",
        "target_path = \"/content/drive/MyDrive/COVID-19 Project/Dataset/COVID\""
      ],
      "metadata": {
        "id": "6Vks0Wq4MmmO"
      },
      "execution_count": null,
      "outputs": []
    },
    {
      "cell_type": "code",
      "source": [
        "if not os.path.exists(target_path):\n",
        "  os.makedirs(target_path)\n",
        "  print('COVID-19 folder created')"
      ],
      "metadata": {
        "colab": {
          "base_uri": "https://localhost:8080/"
        },
        "id": "EnQt2U9wPb2p",
        "outputId": "89d8ff28-3418-4324-f2dd-171b0b9707ce"
      },
      "execution_count": null,
      "outputs": [
        {
          "output_type": "stream",
          "name": "stdout",
          "text": [
            "COVID-19 folder created\n"
          ]
        }
      ]
    },
    {
      "cell_type": "code",
      "source": [
        "for (i, row) in df.iterrows():\n",
        "  filename = row['filename']\n",
        "  img_path = os.path.join(covid_images_path, filename)\n",
        "  img_copy_path = os.path.join(target_path, filename)\n",
        "  shutil.copy2(img_path, img_copy_path)\n",
        "  print('Moving image', i)"
      ],
      "metadata": {
        "colab": {
          "base_uri": "https://localhost:8080/"
        },
        "id": "-prOmgLQQB7S",
        "outputId": "c3d99eda-f1c6-44ab-dc8c-28cdd93e3d2f"
      },
      "execution_count": null,
      "outputs": [
        {
          "output_type": "stream",
          "name": "stdout",
          "text": [
            "Moving image 0\n",
            "Moving image 1\n",
            "Moving image 2\n",
            "Moving image 3\n",
            "Moving image 4\n",
            "Moving image 5\n",
            "Moving image 7\n",
            "Moving image 8\n",
            "Moving image 20\n",
            "Moving image 21\n",
            "Moving image 22\n",
            "Moving image 24\n",
            "Moving image 26\n",
            "Moving image 27\n",
            "Moving image 29\n",
            "Moving image 30\n",
            "Moving image 31\n",
            "Moving image 32\n",
            "Moving image 33\n",
            "Moving image 39\n",
            "Moving image 48\n",
            "Moving image 51\n",
            "Moving image 54\n",
            "Moving image 72\n",
            "Moving image 81\n",
            "Moving image 82\n",
            "Moving image 88\n",
            "Moving image 90\n",
            "Moving image 91\n",
            "Moving image 92\n",
            "Moving image 93\n",
            "Moving image 95\n",
            "Moving image 96\n",
            "Moving image 98\n",
            "Moving image 99\n",
            "Moving image 101\n",
            "Moving image 103\n",
            "Moving image 107\n",
            "Moving image 110\n",
            "Moving image 111\n",
            "Moving image 115\n",
            "Moving image 116\n",
            "Moving image 117\n",
            "Moving image 118\n",
            "Moving image 129\n",
            "Moving image 130\n",
            "Moving image 131\n",
            "Moving image 132\n",
            "Moving image 133\n",
            "Moving image 134\n",
            "Moving image 136\n",
            "Moving image 142\n",
            "Moving image 143\n",
            "Moving image 146\n",
            "Moving image 147\n",
            "Moving image 149\n",
            "Moving image 151\n",
            "Moving image 152\n",
            "Moving image 156\n",
            "Moving image 158\n",
            "Moving image 176\n",
            "Moving image 178\n",
            "Moving image 179\n",
            "Moving image 181\n",
            "Moving image 182\n",
            "Moving image 183\n",
            "Moving image 184\n",
            "Moving image 185\n",
            "Moving image 186\n",
            "Moving image 187\n",
            "Moving image 188\n",
            "Moving image 189\n",
            "Moving image 191\n",
            "Moving image 208\n",
            "Moving image 209\n",
            "Moving image 210\n",
            "Moving image 211\n",
            "Moving image 212\n",
            "Moving image 213\n",
            "Moving image 214\n",
            "Moving image 215\n",
            "Moving image 219\n",
            "Moving image 224\n",
            "Moving image 249\n",
            "Moving image 252\n",
            "Moving image 253\n",
            "Moving image 266\n",
            "Moving image 278\n",
            "Moving image 279\n",
            "Moving image 280\n",
            "Moving image 281\n",
            "Moving image 282\n",
            "Moving image 283\n",
            "Moving image 285\n",
            "Moving image 286\n",
            "Moving image 288\n",
            "Moving image 290\n",
            "Moving image 292\n",
            "Moving image 293\n",
            "Moving image 296\n",
            "Moving image 308\n",
            "Moving image 311\n",
            "Moving image 313\n",
            "Moving image 314\n",
            "Moving image 315\n",
            "Moving image 316\n",
            "Moving image 317\n",
            "Moving image 323\n",
            "Moving image 325\n",
            "Moving image 326\n",
            "Moving image 330\n",
            "Moving image 333\n",
            "Moving image 334\n",
            "Moving image 336\n",
            "Moving image 337\n",
            "Moving image 340\n",
            "Moving image 341\n",
            "Moving image 342\n",
            "Moving image 343\n",
            "Moving image 344\n",
            "Moving image 345\n",
            "Moving image 346\n",
            "Moving image 347\n",
            "Moving image 348\n",
            "Moving image 351\n",
            "Moving image 352\n",
            "Moving image 353\n",
            "Moving image 359\n",
            "Moving image 367\n",
            "Moving image 390\n",
            "Moving image 421\n",
            "Moving image 424\n",
            "Moving image 426\n",
            "Moving image 427\n",
            "Moving image 431\n",
            "Moving image 432\n",
            "Moving image 433\n",
            "Moving image 434\n",
            "Moving image 436\n",
            "Moving image 437\n",
            "Moving image 438\n",
            "Moving image 439\n",
            "Moving image 444\n",
            "Moving image 445\n",
            "Moving image 446\n",
            "Moving image 448\n",
            "Moving image 449\n",
            "Moving image 450\n",
            "Moving image 461\n",
            "Moving image 473\n",
            "Moving image 474\n",
            "Moving image 475\n",
            "Moving image 476\n",
            "Moving image 478\n",
            "Moving image 479\n",
            "Moving image 483\n",
            "Moving image 485\n",
            "Moving image 486\n",
            "Moving image 488\n",
            "Moving image 490\n",
            "Moving image 493\n",
            "Moving image 494\n",
            "Moving image 496\n",
            "Moving image 497\n",
            "Moving image 498\n",
            "Moving image 570\n",
            "Moving image 582\n",
            "Moving image 583\n",
            "Moving image 592\n",
            "Moving image 593\n",
            "Moving image 609\n",
            "Moving image 610\n",
            "Moving image 618\n",
            "Moving image 621\n",
            "Moving image 622\n",
            "Moving image 623\n",
            "Moving image 624\n",
            "Moving image 625\n",
            "Moving image 627\n",
            "Moving image 628\n",
            "Moving image 629\n",
            "Moving image 630\n",
            "Moving image 632\n",
            "Moving image 642\n",
            "Moving image 648\n",
            "Moving image 650\n",
            "Moving image 651\n",
            "Moving image 653\n",
            "Moving image 659\n",
            "Moving image 666\n",
            "Moving image 673\n",
            "Moving image 931\n",
            "Moving image 932\n",
            "Moving image 933\n",
            "Moving image 936\n",
            "Moving image 939\n"
          ]
        }
      ]
    },
    {
      "cell_type": "code",
      "source": [
        "len(os.listdir(target_path))"
      ],
      "metadata": {
        "colab": {
          "base_uri": "https://localhost:8080/"
        },
        "id": "aqy4jH0QVVqY",
        "outputId": "0673667b-2737-4b8d-807f-1764c83f917e"
      },
      "execution_count": null,
      "outputs": [
        {
          "output_type": "execute_result",
          "data": {
            "text/plain": [
              "196"
            ]
          },
          "metadata": {},
          "execution_count": 52
        }
      ]
    },
    {
      "cell_type": "markdown",
      "source": [
        "### `Normal X-ray Images`"
      ],
      "metadata": {
        "id": "rQ5hg9tORopu"
      }
    },
    {
      "cell_type": "code",
      "source": [
        "normal_images_path = '/content/drive/MyDrive/COVID-19 Project/normal/chest_xray/train/NORMAL'\n",
        "target_path_normal = \"/content/drive/MyDrive/COVID-19 Project/Dataset/NORMAL\""
      ],
      "metadata": {
        "id": "fckZkmioUxq_"
      },
      "execution_count": null,
      "outputs": []
    },
    {
      "cell_type": "code",
      "source": [
        "if not os.path.exists(target_path_normal):\n",
        "  os.makedirs(target_path_normal)\n",
        "  print('NORMAL folder created')"
      ],
      "metadata": {
        "colab": {
          "base_uri": "https://localhost:8080/"
        },
        "id": "7IcksM5pVDjq",
        "outputId": "69cd0e2a-cfc3-490d-9e05-e4d1299fa5ce"
      },
      "execution_count": null,
      "outputs": [
        {
          "output_type": "stream",
          "name": "stdout",
          "text": [
            "NORMAL folder created\n"
          ]
        }
      ]
    },
    {
      "cell_type": "code",
      "source": [
        "img_names = os.listdir(normal_images_path)"
      ],
      "metadata": {
        "id": "oSmFfb-EVOMy"
      },
      "execution_count": null,
      "outputs": []
    },
    {
      "cell_type": "code",
      "source": [
        "random.shuffle(img_names)"
      ],
      "metadata": {
        "id": "HN6mDCKzV1Tp"
      },
      "execution_count": null,
      "outputs": []
    },
    {
      "cell_type": "code",
      "source": [
        "for i in range(len(os.listdir(target_path))):\n",
        "  img_name = img_names[i]\n",
        "  img_path = os.path.join(normal_images_path, img_name)\n",
        "  trgt_path = os.path.join(target_path_normal, img_name)\n",
        "  shutil.copy2(img_path, trgt_path)\n",
        "  print('Copying image', i)"
      ],
      "metadata": {
        "colab": {
          "base_uri": "https://localhost:8080/"
        },
        "id": "wHupAa5LWA0G",
        "outputId": "e820a264-f089-463d-fc14-4ae47191f562"
      },
      "execution_count": null,
      "outputs": [
        {
          "output_type": "stream",
          "name": "stdout",
          "text": [
            "Copying image 0\n",
            "Copying image 1\n",
            "Copying image 2\n",
            "Copying image 3\n",
            "Copying image 4\n",
            "Copying image 5\n",
            "Copying image 6\n",
            "Copying image 7\n",
            "Copying image 8\n",
            "Copying image 9\n",
            "Copying image 10\n",
            "Copying image 11\n",
            "Copying image 12\n",
            "Copying image 13\n",
            "Copying image 14\n",
            "Copying image 15\n",
            "Copying image 16\n",
            "Copying image 17\n",
            "Copying image 18\n",
            "Copying image 19\n",
            "Copying image 20\n",
            "Copying image 21\n",
            "Copying image 22\n",
            "Copying image 23\n",
            "Copying image 24\n",
            "Copying image 25\n",
            "Copying image 26\n",
            "Copying image 27\n",
            "Copying image 28\n",
            "Copying image 29\n",
            "Copying image 30\n",
            "Copying image 31\n",
            "Copying image 32\n",
            "Copying image 33\n",
            "Copying image 34\n",
            "Copying image 35\n",
            "Copying image 36\n",
            "Copying image 37\n",
            "Copying image 38\n",
            "Copying image 39\n",
            "Copying image 40\n",
            "Copying image 41\n",
            "Copying image 42\n",
            "Copying image 43\n",
            "Copying image 44\n",
            "Copying image 45\n",
            "Copying image 46\n",
            "Copying image 47\n",
            "Copying image 48\n",
            "Copying image 49\n",
            "Copying image 50\n",
            "Copying image 51\n",
            "Copying image 52\n",
            "Copying image 53\n",
            "Copying image 54\n",
            "Copying image 55\n",
            "Copying image 56\n",
            "Copying image 57\n",
            "Copying image 58\n",
            "Copying image 59\n",
            "Copying image 60\n",
            "Copying image 61\n",
            "Copying image 62\n",
            "Copying image 63\n",
            "Copying image 64\n",
            "Copying image 65\n",
            "Copying image 66\n",
            "Copying image 67\n",
            "Copying image 68\n",
            "Copying image 69\n",
            "Copying image 70\n",
            "Copying image 71\n",
            "Copying image 72\n",
            "Copying image 73\n",
            "Copying image 74\n",
            "Copying image 75\n",
            "Copying image 76\n",
            "Copying image 77\n",
            "Copying image 78\n",
            "Copying image 79\n",
            "Copying image 80\n",
            "Copying image 81\n",
            "Copying image 82\n",
            "Copying image 83\n",
            "Copying image 84\n",
            "Copying image 85\n",
            "Copying image 86\n",
            "Copying image 87\n",
            "Copying image 88\n",
            "Copying image 89\n",
            "Copying image 90\n",
            "Copying image 91\n",
            "Copying image 92\n",
            "Copying image 93\n",
            "Copying image 94\n",
            "Copying image 95\n",
            "Copying image 96\n",
            "Copying image 97\n",
            "Copying image 98\n",
            "Copying image 99\n",
            "Copying image 100\n",
            "Copying image 101\n",
            "Copying image 102\n",
            "Copying image 103\n",
            "Copying image 104\n",
            "Copying image 105\n",
            "Copying image 106\n",
            "Copying image 107\n",
            "Copying image 108\n",
            "Copying image 109\n",
            "Copying image 110\n",
            "Copying image 111\n",
            "Copying image 112\n",
            "Copying image 113\n",
            "Copying image 114\n",
            "Copying image 115\n",
            "Copying image 116\n",
            "Copying image 117\n",
            "Copying image 118\n",
            "Copying image 119\n",
            "Copying image 120\n",
            "Copying image 121\n",
            "Copying image 122\n",
            "Copying image 123\n",
            "Copying image 124\n",
            "Copying image 125\n",
            "Copying image 126\n",
            "Copying image 127\n",
            "Copying image 128\n",
            "Copying image 129\n",
            "Copying image 130\n",
            "Copying image 131\n",
            "Copying image 132\n",
            "Copying image 133\n",
            "Copying image 134\n",
            "Copying image 135\n",
            "Copying image 136\n",
            "Copying image 137\n",
            "Copying image 138\n",
            "Copying image 139\n",
            "Copying image 140\n",
            "Copying image 141\n",
            "Copying image 142\n",
            "Copying image 143\n",
            "Copying image 144\n",
            "Copying image 145\n",
            "Copying image 146\n",
            "Copying image 147\n",
            "Copying image 148\n",
            "Copying image 149\n",
            "Copying image 150\n",
            "Copying image 151\n",
            "Copying image 152\n",
            "Copying image 153\n",
            "Copying image 154\n",
            "Copying image 155\n",
            "Copying image 156\n",
            "Copying image 157\n",
            "Copying image 158\n",
            "Copying image 159\n",
            "Copying image 160\n",
            "Copying image 161\n",
            "Copying image 162\n",
            "Copying image 163\n",
            "Copying image 164\n",
            "Copying image 165\n",
            "Copying image 166\n",
            "Copying image 167\n",
            "Copying image 168\n",
            "Copying image 169\n",
            "Copying image 170\n",
            "Copying image 171\n",
            "Copying image 172\n",
            "Copying image 173\n",
            "Copying image 174\n",
            "Copying image 175\n",
            "Copying image 176\n",
            "Copying image 177\n",
            "Copying image 178\n",
            "Copying image 179\n",
            "Copying image 180\n",
            "Copying image 181\n",
            "Copying image 182\n",
            "Copying image 183\n",
            "Copying image 184\n",
            "Copying image 185\n",
            "Copying image 186\n",
            "Copying image 187\n",
            "Copying image 188\n",
            "Copying image 189\n",
            "Copying image 190\n",
            "Copying image 191\n",
            "Copying image 192\n",
            "Copying image 193\n",
            "Copying image 194\n",
            "Copying image 195\n"
          ]
        }
      ]
    },
    {
      "cell_type": "code",
      "source": [
        "len(os.listdir(target_path_normal))"
      ],
      "metadata": {
        "colab": {
          "base_uri": "https://localhost:8080/"
        },
        "id": "5b3UXPQ1WwrQ",
        "outputId": "a5c25937-a0d9-4713-e9c2-5b5bc6603bad"
      },
      "execution_count": null,
      "outputs": [
        {
          "output_type": "execute_result",
          "data": {
            "text/plain": [
              "196"
            ]
          },
          "metadata": {},
          "execution_count": 57
        }
      ]
    },
    {
      "cell_type": "markdown",
      "source": [
        "### `Creating Train folder`"
      ],
      "metadata": {
        "id": "oAPp0jjQj9fe"
      }
    },
    {
      "cell_type": "code",
      "source": [
        "train_covid_path = '/content/drive/MyDrive/COVID-19 Project/Dataset/train/COVID'\n",
        "train_normal_path = '/content/drive/MyDrive/COVID-19 Project/Dataset/train/NORMAL'\n",
        "\n",
        "source_COVID = '/content/drive/MyDrive/COVID-19 Project/Dataset/COVID'\n",
        "source_NORMAL = '/content/drive/MyDrive/COVID-19 Project/Dataset/NORMAL'\n",
        "\n",
        "if not os.path.exists(train_covid_path):\n",
        "  os.makedirs(train_covid_path)\n",
        "  print('Train COVID folder created')\n",
        "\n",
        "if not os.path.exists(train_normal_path):\n",
        "  os.makedirs(train_normal_path)\n",
        "  print('Train NORMAL folder created')"
      ],
      "metadata": {
        "colab": {
          "base_uri": "https://localhost:8080/"
        },
        "id": "IrCdW0PRkCnd",
        "outputId": "6bd6912c-9168-4527-c9d6-be9772b35ec4"
      },
      "execution_count": null,
      "outputs": [
        {
          "output_type": "stream",
          "name": "stdout",
          "text": [
            "Train COVID folder created\n",
            "Train NORMAL folder created\n"
          ]
        }
      ]
    },
    {
      "cell_type": "code",
      "source": [
        "covid_img_names = os.listdir(source_COVID)\n",
        "normal_img_names = os.listdir(source_NORMAL)\n",
        "\n",
        "random.shuffle(covid_img_names)\n",
        "random.shuffle(normal_img_names)"
      ],
      "metadata": {
        "id": "tqzgiqb9lpOc"
      },
      "execution_count": null,
      "outputs": []
    },
    {
      "cell_type": "code",
      "source": [
        "train_size = int(0.75*196)"
      ],
      "metadata": {
        "id": "2dYEP5pbncDY"
      },
      "execution_count": null,
      "outputs": []
    },
    {
      "cell_type": "code",
      "source": [
        "for i in range(train_size):\n",
        "  covid_img = covid_img_names[i]\n",
        "  normal_img = normal_img_names[i]\n",
        "  \n",
        "  covid_img_path = os.path.join(source_COVID, covid_img)\n",
        "  covid_trgt_path = os.path.join(train_covid_path, covid_img)\n",
        "  shutil.move(covid_img_path, covid_trgt_path)\n",
        "\n",
        "  normal_img_path = os.path.join(source_NORMAL, normal_img)\n",
        "  normal_trgt_path = os.path.join(train_normal_path, normal_img)\n",
        "  shutil.move(normal_img_path, normal_trgt_path)\n",
        "\n",
        "  print('Copying COVID & NORMAL image', i)"
      ],
      "metadata": {
        "colab": {
          "base_uri": "https://localhost:8080/"
        },
        "id": "Ra20qQ3so5YK",
        "outputId": "7550708a-dbd7-4e23-a1d2-e69c4388017b"
      },
      "execution_count": null,
      "outputs": [
        {
          "output_type": "stream",
          "name": "stdout",
          "text": [
            "Copying COVID & NORMAL image 0\n",
            "Copying COVID & NORMAL image 1\n",
            "Copying COVID & NORMAL image 2\n",
            "Copying COVID & NORMAL image 3\n",
            "Copying COVID & NORMAL image 4\n",
            "Copying COVID & NORMAL image 5\n",
            "Copying COVID & NORMAL image 6\n",
            "Copying COVID & NORMAL image 7\n",
            "Copying COVID & NORMAL image 8\n",
            "Copying COVID & NORMAL image 9\n",
            "Copying COVID & NORMAL image 10\n",
            "Copying COVID & NORMAL image 11\n",
            "Copying COVID & NORMAL image 12\n",
            "Copying COVID & NORMAL image 13\n",
            "Copying COVID & NORMAL image 14\n",
            "Copying COVID & NORMAL image 15\n",
            "Copying COVID & NORMAL image 16\n",
            "Copying COVID & NORMAL image 17\n",
            "Copying COVID & NORMAL image 18\n",
            "Copying COVID & NORMAL image 19\n",
            "Copying COVID & NORMAL image 20\n",
            "Copying COVID & NORMAL image 21\n",
            "Copying COVID & NORMAL image 22\n",
            "Copying COVID & NORMAL image 23\n",
            "Copying COVID & NORMAL image 24\n",
            "Copying COVID & NORMAL image 25\n",
            "Copying COVID & NORMAL image 26\n",
            "Copying COVID & NORMAL image 27\n",
            "Copying COVID & NORMAL image 28\n",
            "Copying COVID & NORMAL image 29\n",
            "Copying COVID & NORMAL image 30\n",
            "Copying COVID & NORMAL image 31\n",
            "Copying COVID & NORMAL image 32\n",
            "Copying COVID & NORMAL image 33\n",
            "Copying COVID & NORMAL image 34\n",
            "Copying COVID & NORMAL image 35\n",
            "Copying COVID & NORMAL image 36\n",
            "Copying COVID & NORMAL image 37\n",
            "Copying COVID & NORMAL image 38\n",
            "Copying COVID & NORMAL image 39\n",
            "Copying COVID & NORMAL image 40\n",
            "Copying COVID & NORMAL image 41\n",
            "Copying COVID & NORMAL image 42\n",
            "Copying COVID & NORMAL image 43\n",
            "Copying COVID & NORMAL image 44\n",
            "Copying COVID & NORMAL image 45\n",
            "Copying COVID & NORMAL image 46\n",
            "Copying COVID & NORMAL image 47\n",
            "Copying COVID & NORMAL image 48\n",
            "Copying COVID & NORMAL image 49\n",
            "Copying COVID & NORMAL image 50\n",
            "Copying COVID & NORMAL image 51\n",
            "Copying COVID & NORMAL image 52\n",
            "Copying COVID & NORMAL image 53\n",
            "Copying COVID & NORMAL image 54\n",
            "Copying COVID & NORMAL image 55\n",
            "Copying COVID & NORMAL image 56\n",
            "Copying COVID & NORMAL image 57\n",
            "Copying COVID & NORMAL image 58\n",
            "Copying COVID & NORMAL image 59\n",
            "Copying COVID & NORMAL image 60\n",
            "Copying COVID & NORMAL image 61\n",
            "Copying COVID & NORMAL image 62\n",
            "Copying COVID & NORMAL image 63\n",
            "Copying COVID & NORMAL image 64\n",
            "Copying COVID & NORMAL image 65\n",
            "Copying COVID & NORMAL image 66\n",
            "Copying COVID & NORMAL image 67\n",
            "Copying COVID & NORMAL image 68\n",
            "Copying COVID & NORMAL image 69\n",
            "Copying COVID & NORMAL image 70\n",
            "Copying COVID & NORMAL image 71\n",
            "Copying COVID & NORMAL image 72\n",
            "Copying COVID & NORMAL image 73\n",
            "Copying COVID & NORMAL image 74\n",
            "Copying COVID & NORMAL image 75\n",
            "Copying COVID & NORMAL image 76\n",
            "Copying COVID & NORMAL image 77\n",
            "Copying COVID & NORMAL image 78\n",
            "Copying COVID & NORMAL image 79\n",
            "Copying COVID & NORMAL image 80\n",
            "Copying COVID & NORMAL image 81\n",
            "Copying COVID & NORMAL image 82\n",
            "Copying COVID & NORMAL image 83\n",
            "Copying COVID & NORMAL image 84\n",
            "Copying COVID & NORMAL image 85\n",
            "Copying COVID & NORMAL image 86\n",
            "Copying COVID & NORMAL image 87\n",
            "Copying COVID & NORMAL image 88\n",
            "Copying COVID & NORMAL image 89\n",
            "Copying COVID & NORMAL image 90\n",
            "Copying COVID & NORMAL image 91\n",
            "Copying COVID & NORMAL image 92\n",
            "Copying COVID & NORMAL image 93\n",
            "Copying COVID & NORMAL image 94\n",
            "Copying COVID & NORMAL image 95\n",
            "Copying COVID & NORMAL image 96\n",
            "Copying COVID & NORMAL image 97\n",
            "Copying COVID & NORMAL image 98\n",
            "Copying COVID & NORMAL image 99\n",
            "Copying COVID & NORMAL image 100\n",
            "Copying COVID & NORMAL image 101\n",
            "Copying COVID & NORMAL image 102\n",
            "Copying COVID & NORMAL image 103\n",
            "Copying COVID & NORMAL image 104\n",
            "Copying COVID & NORMAL image 105\n",
            "Copying COVID & NORMAL image 106\n",
            "Copying COVID & NORMAL image 107\n",
            "Copying COVID & NORMAL image 108\n",
            "Copying COVID & NORMAL image 109\n",
            "Copying COVID & NORMAL image 110\n",
            "Copying COVID & NORMAL image 111\n",
            "Copying COVID & NORMAL image 112\n",
            "Copying COVID & NORMAL image 113\n",
            "Copying COVID & NORMAL image 114\n",
            "Copying COVID & NORMAL image 115\n",
            "Copying COVID & NORMAL image 116\n",
            "Copying COVID & NORMAL image 117\n",
            "Copying COVID & NORMAL image 118\n",
            "Copying COVID & NORMAL image 119\n",
            "Copying COVID & NORMAL image 120\n",
            "Copying COVID & NORMAL image 121\n",
            "Copying COVID & NORMAL image 122\n",
            "Copying COVID & NORMAL image 123\n",
            "Copying COVID & NORMAL image 124\n",
            "Copying COVID & NORMAL image 125\n",
            "Copying COVID & NORMAL image 126\n",
            "Copying COVID & NORMAL image 127\n",
            "Copying COVID & NORMAL image 128\n",
            "Copying COVID & NORMAL image 129\n",
            "Copying COVID & NORMAL image 130\n",
            "Copying COVID & NORMAL image 131\n",
            "Copying COVID & NORMAL image 132\n",
            "Copying COVID & NORMAL image 133\n",
            "Copying COVID & NORMAL image 134\n",
            "Copying COVID & NORMAL image 135\n",
            "Copying COVID & NORMAL image 136\n",
            "Copying COVID & NORMAL image 137\n",
            "Copying COVID & NORMAL image 138\n",
            "Copying COVID & NORMAL image 139\n",
            "Copying COVID & NORMAL image 140\n",
            "Copying COVID & NORMAL image 141\n",
            "Copying COVID & NORMAL image 142\n",
            "Copying COVID & NORMAL image 143\n",
            "Copying COVID & NORMAL image 144\n",
            "Copying COVID & NORMAL image 145\n",
            "Copying COVID & NORMAL image 146\n"
          ]
        }
      ]
    },
    {
      "cell_type": "markdown",
      "source": [
        "### `Creating Test folder`"
      ],
      "metadata": {
        "id": "YUNY1U00qTAf"
      }
    },
    {
      "cell_type": "code",
      "source": [
        "test_covid_path = '/content/drive/MyDrive/COVID-19 Project/Dataset/test/COVID'\n",
        "test_normal_path = '/content/drive/MyDrive/COVID-19 Project/Dataset/test/NORMAL'\n",
        "\n",
        "source_COVID = '/content/drive/MyDrive/COVID-19 Project/Dataset/COVID'\n",
        "source_NORMAL = '/content/drive/MyDrive/COVID-19 Project/Dataset/NORMAL'\n",
        "\n",
        "if not os.path.exists(test_covid_path):\n",
        "  os.makedirs(test_covid_path)\n",
        "  print('Test COVID folder created')\n",
        "\n",
        "if not os.path.exists(test_normal_path):\n",
        "  os.makedirs(test_normal_path)\n",
        "  print('Test NORMAL folder created')"
      ],
      "metadata": {
        "colab": {
          "base_uri": "https://localhost:8080/"
        },
        "id": "1mUzuTWTqkge",
        "outputId": "62bba3a6-5848-4e6f-a514-08a94b39032c"
      },
      "execution_count": null,
      "outputs": [
        {
          "output_type": "stream",
          "name": "stdout",
          "text": [
            "Test COVID folder created\n",
            "Test NORMAL folder created\n"
          ]
        }
      ]
    },
    {
      "cell_type": "code",
      "source": [
        "covid_img_names = os.listdir(source_COVID)\n",
        "normal_img_names = os.listdir(source_NORMAL)"
      ],
      "metadata": {
        "id": "3WMHm1ioq2rm"
      },
      "execution_count": null,
      "outputs": []
    },
    {
      "cell_type": "code",
      "source": [
        "for i in range(len(covid_img_names)):\n",
        "  covid_img = covid_img_names[i]\n",
        "  normal_img = normal_img_names[i]\n",
        "  \n",
        "  covid_img_path = os.path.join(source_COVID, covid_img)\n",
        "  covid_trgt_path = os.path.join(test_covid_path, covid_img)\n",
        "  shutil.move(covid_img_path, covid_trgt_path)\n",
        "\n",
        "  normal_img_path = os.path.join(source_NORMAL, normal_img)\n",
        "  normal_trgt_path = os.path.join(test_normal_path, normal_img)\n",
        "  shutil.move(normal_img_path, normal_trgt_path)\n",
        "\n",
        "  print('Moving COVID & NORMAL image', i)"
      ],
      "metadata": {
        "colab": {
          "base_uri": "https://localhost:8080/"
        },
        "id": "uDVKEam4rPGz",
        "outputId": "94ad6828-a96d-4640-8e35-e3d56f41aa73"
      },
      "execution_count": null,
      "outputs": [
        {
          "output_type": "stream",
          "name": "stdout",
          "text": [
            "Moving COVID & NORMAL image 0\n",
            "Moving COVID & NORMAL image 1\n",
            "Moving COVID & NORMAL image 2\n",
            "Moving COVID & NORMAL image 3\n",
            "Moving COVID & NORMAL image 4\n",
            "Moving COVID & NORMAL image 5\n",
            "Moving COVID & NORMAL image 6\n",
            "Moving COVID & NORMAL image 7\n",
            "Moving COVID & NORMAL image 8\n",
            "Moving COVID & NORMAL image 9\n",
            "Moving COVID & NORMAL image 10\n",
            "Moving COVID & NORMAL image 11\n",
            "Moving COVID & NORMAL image 12\n",
            "Moving COVID & NORMAL image 13\n",
            "Moving COVID & NORMAL image 14\n",
            "Moving COVID & NORMAL image 15\n",
            "Moving COVID & NORMAL image 16\n",
            "Moving COVID & NORMAL image 17\n",
            "Moving COVID & NORMAL image 18\n",
            "Moving COVID & NORMAL image 19\n",
            "Moving COVID & NORMAL image 20\n",
            "Moving COVID & NORMAL image 21\n",
            "Moving COVID & NORMAL image 22\n",
            "Moving COVID & NORMAL image 23\n",
            "Moving COVID & NORMAL image 24\n",
            "Moving COVID & NORMAL image 25\n",
            "Moving COVID & NORMAL image 26\n",
            "Moving COVID & NORMAL image 27\n",
            "Moving COVID & NORMAL image 28\n",
            "Moving COVID & NORMAL image 29\n",
            "Moving COVID & NORMAL image 30\n",
            "Moving COVID & NORMAL image 31\n",
            "Moving COVID & NORMAL image 32\n",
            "Moving COVID & NORMAL image 33\n",
            "Moving COVID & NORMAL image 34\n",
            "Moving COVID & NORMAL image 35\n",
            "Moving COVID & NORMAL image 36\n",
            "Moving COVID & NORMAL image 37\n",
            "Moving COVID & NORMAL image 38\n",
            "Moving COVID & NORMAL image 39\n",
            "Moving COVID & NORMAL image 40\n",
            "Moving COVID & NORMAL image 41\n",
            "Moving COVID & NORMAL image 42\n",
            "Moving COVID & NORMAL image 43\n",
            "Moving COVID & NORMAL image 44\n",
            "Moving COVID & NORMAL image 45\n",
            "Moving COVID & NORMAL image 46\n",
            "Moving COVID & NORMAL image 47\n",
            "Moving COVID & NORMAL image 48\n"
          ]
        }
      ]
    },
    {
      "cell_type": "code",
      "source": [
        "os.rmdir(source_COVID)\n",
        "os.rmdir(source_NORMAL)"
      ],
      "metadata": {
        "id": "Azp7UH6trTRX"
      },
      "execution_count": null,
      "outputs": []
    }
  ]
}